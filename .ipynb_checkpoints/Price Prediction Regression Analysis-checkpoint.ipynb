{
 "cells": [
  {
   "cell_type": "markdown",
   "metadata": {},
   "source": [
    "## Import Libraries"
   ]
  },
  {
   "cell_type": "code",
   "execution_count": 1,
   "metadata": {},
   "outputs": [],
   "source": [
    "# Matrix operations\n",
    "import pandas as pd\n",
    "import numpy as np\n",
    "\n",
    "\n",
    "# Preprocessing\n",
    "import category_encoders as ce \n",
    "from sklearn.preprocessing import StandardScaler, MinMaxScaler\n",
    "from corr_code import get_cat_correlated_cols,get_correlated_cols\n",
    "\n",
    "# Metrics \n",
    "from sklearn.model_selection import train_test_split, cross_val_score\n",
    "from sklearn.metrics import mean_squared_log_error,make_scorer\n",
    "\n",
    "# Models\n",
    "from sklearn.ensemble import RandomForestRegressor\n",
    "from sklearn.pipeline import Pipeline\n",
    "from catboost import CatBoostRegressor\n",
    "from sklearn.linear_model import Ridge, RidgeCV, Lasso, LassoCV, ElasticNet, ElasticNetCV, Lars, LarsCV"
   ]
  },
  {
   "cell_type": "code",
   "execution_count": 27,
   "metadata": {},
   "outputs": [],
   "source": [
    "import re"
   ]
  },
  {
   "cell_type": "markdown",
   "metadata": {},
   "source": [
    "### Load Data "
   ]
  },
  {
   "cell_type": "code",
   "execution_count": 2,
   "metadata": {},
   "outputs": [
    {
     "name": "stdout",
     "output_type": "stream",
     "text": [
      "Train Shape  (21000, 15)\n",
      "Test Shape  (9000, 14)\n"
     ]
    }
   ],
   "source": [
    "train = pd.read_csv(\"data/Train.csv\")\n",
    "test = pd.read_csv(\"data/Test.csv\")\n",
    "\n",
    "# SHape\n",
    "print(\"Train Shape \",train.shape)\n",
    "print(\"Test Shape \",test.shape)"
   ]
  },
  {
   "cell_type": "code",
   "execution_count": 3,
   "metadata": {},
   "outputs": [
    {
     "data": {
      "text/html": [
       "<div>\n",
       "<style scoped>\n",
       "    .dataframe tbody tr th:only-of-type {\n",
       "        vertical-align: middle;\n",
       "    }\n",
       "\n",
       "    .dataframe tbody tr th {\n",
       "        vertical-align: top;\n",
       "    }\n",
       "\n",
       "    .dataframe thead th {\n",
       "        text-align: right;\n",
       "    }\n",
       "</style>\n",
       "<table border=\"1\" class=\"dataframe\">\n",
       "  <thead>\n",
       "    <tr style=\"text-align: right;\">\n",
       "      <th></th>\n",
       "      <th>Uniq Id</th>\n",
       "      <th>Package Name</th>\n",
       "      <th>Package Type</th>\n",
       "      <th>Destination</th>\n",
       "      <th>Itinerary</th>\n",
       "      <th>Places Covered</th>\n",
       "      <th>Travel Date</th>\n",
       "      <th>Hotel Details</th>\n",
       "      <th>Start City</th>\n",
       "      <th>Airline</th>\n",
       "      <th>Flight Stops</th>\n",
       "      <th>Meals</th>\n",
       "      <th>Sightseeing Places Covered</th>\n",
       "      <th>Cancellation Rules</th>\n",
       "      <th>Per Person Price</th>\n",
       "    </tr>\n",
       "  </thead>\n",
       "  <tbody>\n",
       "    <tr>\n",
       "      <th>0</th>\n",
       "      <td>e788ab76d9d8cf1e6ed2f139645ca5d1</td>\n",
       "      <td>Best of Shimla and Manali Holiday from Delhi</td>\n",
       "      <td>Standard</td>\n",
       "      <td>New Delhi|Shimla|Manali|Chandigarh</td>\n",
       "      <td>1N New Delhi . 2N Shimla . 2N Manali . 1N Chan...</td>\n",
       "      <td>New Delhi|Shimla|Manali|Chandigarh</td>\n",
       "      <td>30-07-2021</td>\n",
       "      <td>Not Available</td>\n",
       "      <td>Mumbai</td>\n",
       "      <td>Not Available</td>\n",
       "      <td>2</td>\n",
       "      <td>3</td>\n",
       "      <td>Not Available</td>\n",
       "      <td>Not Available</td>\n",
       "      <td>11509.0</td>\n",
       "    </tr>\n",
       "    <tr>\n",
       "      <th>1</th>\n",
       "      <td>178f892630ce3e335a5a41d5d83937fd</td>\n",
       "      <td>Kashmir Valley vacation</td>\n",
       "      <td>Premium</td>\n",
       "      <td>Srinagar|Pahalgam|Srinagar</td>\n",
       "      <td>1N Srinagar . 2N Pahalgam . 1N Srinagar</td>\n",
       "      <td>Srinagar|Pahalgam|Srinagar</td>\n",
       "      <td>08-12-2021</td>\n",
       "      <td>The Orchard Retreat &amp; Spa:4.6|WelcomHotel Pine...</td>\n",
       "      <td>New Delhi</td>\n",
       "      <td>IndiGo|IndiGo</td>\n",
       "      <td>0</td>\n",
       "      <td>5</td>\n",
       "      <td>Dal Lake | Avantipura Ruins | Mughal Gardens ...</td>\n",
       "      <td>Cancellation any time after making the 1st pay...</td>\n",
       "      <td>22485.5</td>\n",
       "    </tr>\n",
       "    <tr>\n",
       "      <th>2</th>\n",
       "      <td>f060f2954840503cc2fdaf495357b7df</td>\n",
       "      <td>Might of Mewar- Udaipur and Chittorgarh</td>\n",
       "      <td>Luxury</td>\n",
       "      <td>Udaipur|Chittorgarh</td>\n",
       "      <td>2N Udaipur . 1N Chittorgarh</td>\n",
       "      <td>Udaipur|Chittorgarh</td>\n",
       "      <td>26-04-2021</td>\n",
       "      <td>The Ananta:4.4|juSTa Lake Nahargarh Palace:4</td>\n",
       "      <td>New Delhi</td>\n",
       "      <td>IndiGo</td>\n",
       "      <td>0</td>\n",
       "      <td>4</td>\n",
       "      <td>Lake Pichola | Jag Mandir Palace | Saheliyon ...</td>\n",
       "      <td>Cancellation any time after making the 1st pay...</td>\n",
       "      <td>12421.5</td>\n",
       "    </tr>\n",
       "  </tbody>\n",
       "</table>\n",
       "</div>"
      ],
      "text/plain": [
       "                            Uniq Id  \\\n",
       "0  e788ab76d9d8cf1e6ed2f139645ca5d1   \n",
       "1  178f892630ce3e335a5a41d5d83937fd   \n",
       "2  f060f2954840503cc2fdaf495357b7df   \n",
       "\n",
       "                                   Package Name Package Type  \\\n",
       "0  Best of Shimla and Manali Holiday from Delhi     Standard   \n",
       "1                       Kashmir Valley vacation      Premium   \n",
       "2       Might of Mewar- Udaipur and Chittorgarh       Luxury   \n",
       "\n",
       "                          Destination  \\\n",
       "0  New Delhi|Shimla|Manali|Chandigarh   \n",
       "1          Srinagar|Pahalgam|Srinagar   \n",
       "2                 Udaipur|Chittorgarh   \n",
       "\n",
       "                                           Itinerary  \\\n",
       "0  1N New Delhi . 2N Shimla . 2N Manali . 1N Chan...   \n",
       "1            1N Srinagar . 2N Pahalgam . 1N Srinagar   \n",
       "2                        2N Udaipur . 1N Chittorgarh   \n",
       "\n",
       "                       Places Covered Travel Date  \\\n",
       "0  New Delhi|Shimla|Manali|Chandigarh  30-07-2021   \n",
       "1          Srinagar|Pahalgam|Srinagar  08-12-2021   \n",
       "2                 Udaipur|Chittorgarh  26-04-2021   \n",
       "\n",
       "                                       Hotel Details Start City  \\\n",
       "0                                      Not Available     Mumbai   \n",
       "1  The Orchard Retreat & Spa:4.6|WelcomHotel Pine...  New Delhi   \n",
       "2       The Ananta:4.4|juSTa Lake Nahargarh Palace:4  New Delhi   \n",
       "\n",
       "         Airline  Flight Stops  Meals  \\\n",
       "0  Not Available             2      3   \n",
       "1  IndiGo|IndiGo             0      5   \n",
       "2         IndiGo             0      4   \n",
       "\n",
       "                          Sightseeing Places Covered  \\\n",
       "0                                      Not Available   \n",
       "1   Dal Lake | Avantipura Ruins | Mughal Gardens ...   \n",
       "2   Lake Pichola | Jag Mandir Palace | Saheliyon ...   \n",
       "\n",
       "                                  Cancellation Rules  Per Person Price  \n",
       "0                                      Not Available           11509.0  \n",
       "1  Cancellation any time after making the 1st pay...           22485.5  \n",
       "2  Cancellation any time after making the 1st pay...           12421.5  "
      ]
     },
     "execution_count": 3,
     "metadata": {},
     "output_type": "execute_result"
    }
   ],
   "source": [
    "# Target Columns\n",
    "target = \"Per Person Price\"\n",
    "train.head(3)"
   ]
  },
  {
   "cell_type": "code",
   "execution_count": null,
   "metadata": {},
   "outputs": [],
   "source": []
  },
  {
   "cell_type": "markdown",
   "metadata": {},
   "source": [
    "## Variables"
   ]
  },
  {
   "cell_type": "code",
   "execution_count": 4,
   "metadata": {},
   "outputs": [],
   "source": [
    "#Drop Uniq Id\n",
    "train.drop('Uniq Id',axis=1, inplace=True)\n",
    "test.drop('Uniq Id',axis=1, inplace=True)"
   ]
  },
  {
   "cell_type": "code",
   "execution_count": null,
   "metadata": {},
   "outputs": [],
   "source": []
  },
  {
   "cell_type": "code",
   "execution_count": 5,
   "metadata": {},
   "outputs": [],
   "source": [
    "# Travel Date\n",
    "train['Travel Date'] = pd.to_datetime(train['Travel Date'])\n",
    "test['Travel Date'] = pd.to_datetime(test['Travel Date'])"
   ]
  },
  {
   "cell_type": "code",
   "execution_count": null,
   "metadata": {},
   "outputs": [],
   "source": []
  },
  {
   "cell_type": "code",
   "execution_count": 6,
   "metadata": {},
   "outputs": [],
   "source": [
    "# Feature Extraction \n",
    "train['td_year'] = train['Travel Date'].dt.year\n",
    "train['td_month'] = train['Travel Date'].dt.month\n",
    "train['td_weekday'] = train['Travel Date'].dt.weekday\n",
    "\n",
    "test['td_year'] = test['Travel Date'].dt.year\n",
    "test['td_month'] = test['Travel Date'].dt.month\n",
    "test['td_weekday'] = test['Travel Date'].dt.weekday"
   ]
  },
  {
   "cell_type": "code",
   "execution_count": null,
   "metadata": {},
   "outputs": [],
   "source": []
  },
  {
   "cell_type": "code",
   "execution_count": 7,
   "metadata": {},
   "outputs": [],
   "source": [
    "train.drop(['Travel Date'],axis=1,inplace=True)\n",
    "test.drop(['Travel Date'],axis=1,inplace=True)"
   ]
  },
  {
   "cell_type": "markdown",
   "metadata": {},
   "source": [
    "### Feature Engineering"
   ]
  },
  {
   "cell_type": "code",
   "execution_count": 8,
   "metadata": {},
   "outputs": [],
   "source": [
    "# Drop Correlated Columns"
   ]
  },
  {
   "cell_type": "code",
   "execution_count": 9,
   "metadata": {},
   "outputs": [],
   "source": [
    "num_drop_cols = get_correlated_cols(train,.9)\n"
   ]
  },
  {
   "cell_type": "code",
   "execution_count": 11,
   "metadata": {},
   "outputs": [
    {
     "data": {
      "text/plain": [
       "[]"
      ]
     },
     "execution_count": 11,
     "metadata": {},
     "output_type": "execute_result"
    }
   ],
   "source": [
    "num_drop_cols"
   ]
  },
  {
   "cell_type": "code",
   "execution_count": 12,
   "metadata": {},
   "outputs": [],
   "source": [
    "\n",
    "cat_cols = ['Package Name', 'Package Type', 'Destination', 'Itinerary',\n",
    "       'Places Covered', 'Hotel Details', 'Start City',\n",
    "       'Airline', 'Flight Stops', 'Meals', 'Sightseeing Places Covered',\n",
    "       'Cancellation Rules']\n",
    "corr_map,cat_drop_cols = get_cat_correlated_cols(train,cat_cols,.9)"
   ]
  },
  {
   "cell_type": "code",
   "execution_count": 13,
   "metadata": {},
   "outputs": [
    {
     "data": {
      "text/plain": [
       "{'Destination',\n",
       " 'Flight Stops',\n",
       " 'Itinerary',\n",
       " 'Meals',\n",
       " 'Places Covered',\n",
       " 'Sightseeing Places Covered'}"
      ]
     },
     "execution_count": 13,
     "metadata": {},
     "output_type": "execute_result"
    }
   ],
   "source": [
    "cat_drop_cols"
   ]
  },
  {
   "cell_type": "code",
   "execution_count": 14,
   "metadata": {},
   "outputs": [],
   "source": [
    "cat_drop_cols.remove('Itinerary')\n",
    "cat_drop_cols.add('Destination')"
   ]
  },
  {
   "cell_type": "code",
   "execution_count": 15,
   "metadata": {},
   "outputs": [
    {
     "name": "stdout",
     "output_type": "stream",
     "text": [
      "Columns to Drop   ['Sightseeing Places Covered', 'Destination', 'Flight Stops', 'Meals', 'Places Covered']\n"
     ]
    }
   ],
   "source": [
    "cols_to_drop = num_drop_cols + list(cat_drop_cols)\n",
    "\n",
    "print(\"Columns to Drop  \", cols_to_drop)"
   ]
  },
  {
   "cell_type": "code",
   "execution_count": null,
   "metadata": {},
   "outputs": [],
   "source": []
  },
  {
   "cell_type": "code",
   "execution_count": 47,
   "metadata": {},
   "outputs": [],
   "source": [
    "# Drop the correlated columns\n",
    "train1 = train.drop(cat_drop_cols,axis=1)\n",
    "test1 = test.drop(cat_drop_cols,axis=1)\n",
    "\n",
    "train2 = train.drop(cat_drop_cols,axis=1)\n",
    "test2 = test.drop(cat_drop_cols,axis=1)"
   ]
  },
  {
   "cell_type": "code",
   "execution_count": 48,
   "metadata": {},
   "outputs": [
    {
     "data": {
      "text/html": [
       "<div>\n",
       "<style scoped>\n",
       "    .dataframe tbody tr th:only-of-type {\n",
       "        vertical-align: middle;\n",
       "    }\n",
       "\n",
       "    .dataframe tbody tr th {\n",
       "        vertical-align: top;\n",
       "    }\n",
       "\n",
       "    .dataframe thead th {\n",
       "        text-align: right;\n",
       "    }\n",
       "</style>\n",
       "<table border=\"1\" class=\"dataframe\">\n",
       "  <thead>\n",
       "    <tr style=\"text-align: right;\">\n",
       "      <th></th>\n",
       "      <th>Package Name</th>\n",
       "      <th>Package Type</th>\n",
       "      <th>Itinerary</th>\n",
       "      <th>Hotel Details</th>\n",
       "      <th>Start City</th>\n",
       "      <th>Airline</th>\n",
       "      <th>Cancellation Rules</th>\n",
       "      <th>Per Person Price</th>\n",
       "      <th>td_year</th>\n",
       "      <th>td_month</th>\n",
       "      <th>td_weekday</th>\n",
       "    </tr>\n",
       "  </thead>\n",
       "  <tbody>\n",
       "    <tr>\n",
       "      <th>0</th>\n",
       "      <td>Best of Shimla and Manali Holiday from Delhi</td>\n",
       "      <td>Standard</td>\n",
       "      <td>1N New Delhi . 2N Shimla . 2N Manali . 1N Chan...</td>\n",
       "      <td>Not Available</td>\n",
       "      <td>Mumbai</td>\n",
       "      <td>Not Available</td>\n",
       "      <td>Not Available</td>\n",
       "      <td>11509.0</td>\n",
       "      <td>2021</td>\n",
       "      <td>7</td>\n",
       "      <td>4</td>\n",
       "    </tr>\n",
       "    <tr>\n",
       "      <th>1</th>\n",
       "      <td>Kashmir Valley vacation</td>\n",
       "      <td>Premium</td>\n",
       "      <td>1N Srinagar . 2N Pahalgam . 1N Srinagar</td>\n",
       "      <td>The Orchard Retreat &amp; Spa:4.6|WelcomHotel Pine...</td>\n",
       "      <td>New Delhi</td>\n",
       "      <td>IndiGo|IndiGo</td>\n",
       "      <td>Cancellation any time after making the 1st pay...</td>\n",
       "      <td>22485.5</td>\n",
       "      <td>2021</td>\n",
       "      <td>8</td>\n",
       "      <td>3</td>\n",
       "    </tr>\n",
       "    <tr>\n",
       "      <th>2</th>\n",
       "      <td>Might of Mewar- Udaipur and Chittorgarh</td>\n",
       "      <td>Luxury</td>\n",
       "      <td>2N Udaipur . 1N Chittorgarh</td>\n",
       "      <td>The Ananta:4.4|juSTa Lake Nahargarh Palace:4</td>\n",
       "      <td>New Delhi</td>\n",
       "      <td>IndiGo</td>\n",
       "      <td>Cancellation any time after making the 1st pay...</td>\n",
       "      <td>12421.5</td>\n",
       "      <td>2021</td>\n",
       "      <td>4</td>\n",
       "      <td>0</td>\n",
       "    </tr>\n",
       "    <tr>\n",
       "      <th>3</th>\n",
       "      <td>Colorful Kerala ( Romantic Getaway )</td>\n",
       "      <td>Premium</td>\n",
       "      <td>2N Munnar . 1N Kumarakom . 1N Allepey . 2N Kov...</td>\n",
       "      <td>Elixir Hills Suites Resort &amp; Spa-MMT Holidays ...</td>\n",
       "      <td>New Delhi</td>\n",
       "      <td>IndiGo</td>\n",
       "      <td>Cancellation any time after making the 1st pay...</td>\n",
       "      <td>35967.0</td>\n",
       "      <td>2021</td>\n",
       "      <td>8</td>\n",
       "      <td>4</td>\n",
       "    </tr>\n",
       "    <tr>\n",
       "      <th>4</th>\n",
       "      <td>A Week In Bangkok &amp; Pattaya</td>\n",
       "      <td>Premium</td>\n",
       "      <td>4N Pattaya . 3N Bangkok</td>\n",
       "      <td>Dusit Thani Pattaya - MMT Special:4.5|Amari Wa...</td>\n",
       "      <td>New Delhi</td>\n",
       "      <td>Spicejet|Go Air</td>\n",
       "      <td>Cancellation any time after making the 1st pay...</td>\n",
       "      <td>25584.0</td>\n",
       "      <td>2021</td>\n",
       "      <td>12</td>\n",
       "      <td>6</td>\n",
       "    </tr>\n",
       "  </tbody>\n",
       "</table>\n",
       "</div>"
      ],
      "text/plain": [
       "                                   Package Name Package Type  \\\n",
       "0  Best of Shimla and Manali Holiday from Delhi     Standard   \n",
       "1                       Kashmir Valley vacation      Premium   \n",
       "2       Might of Mewar- Udaipur and Chittorgarh       Luxury   \n",
       "3          Colorful Kerala ( Romantic Getaway )      Premium   \n",
       "4                   A Week In Bangkok & Pattaya      Premium   \n",
       "\n",
       "                                           Itinerary  \\\n",
       "0  1N New Delhi . 2N Shimla . 2N Manali . 1N Chan...   \n",
       "1            1N Srinagar . 2N Pahalgam . 1N Srinagar   \n",
       "2                        2N Udaipur . 1N Chittorgarh   \n",
       "3  2N Munnar . 1N Kumarakom . 1N Allepey . 2N Kov...   \n",
       "4                            4N Pattaya . 3N Bangkok   \n",
       "\n",
       "                                       Hotel Details Start City  \\\n",
       "0                                      Not Available     Mumbai   \n",
       "1  The Orchard Retreat & Spa:4.6|WelcomHotel Pine...  New Delhi   \n",
       "2       The Ananta:4.4|juSTa Lake Nahargarh Palace:4  New Delhi   \n",
       "3  Elixir Hills Suites Resort & Spa-MMT Holidays ...  New Delhi   \n",
       "4  Dusit Thani Pattaya - MMT Special:4.5|Amari Wa...  New Delhi   \n",
       "\n",
       "           Airline                                 Cancellation Rules  \\\n",
       "0    Not Available                                      Not Available   \n",
       "1    IndiGo|IndiGo  Cancellation any time after making the 1st pay...   \n",
       "2           IndiGo  Cancellation any time after making the 1st pay...   \n",
       "3           IndiGo  Cancellation any time after making the 1st pay...   \n",
       "4  Spicejet|Go Air  Cancellation any time after making the 1st pay...   \n",
       "\n",
       "   Per Person Price  td_year  td_month  td_weekday  \n",
       "0           11509.0     2021         7           4  \n",
       "1           22485.5     2021         8           3  \n",
       "2           12421.5     2021         4           0  \n",
       "3           35967.0     2021         8           4  \n",
       "4           25584.0     2021        12           6  "
      ]
     },
     "execution_count": 48,
     "metadata": {},
     "output_type": "execute_result"
    }
   ],
   "source": [
    "train1.head()"
   ]
  },
  {
   "cell_type": "markdown",
   "metadata": {},
   "source": [
    "### Extract Features. "
   ]
  },
  {
   "cell_type": "code",
   "execution_count": 49,
   "metadata": {},
   "outputs": [],
   "source": [
    "train1['no_places'] = train1['Itinerary'].apply(lambda x : len(x.split(\".\")))\n",
    "test1['no_places'] = test1['Itinerary'].apply(lambda x : len(x.split(\".\")))\n"
   ]
  },
  {
   "cell_type": "code",
   "execution_count": 50,
   "metadata": {},
   "outputs": [],
   "source": [
    "train1['no_airline'] =  train1['Airline'].apply(lambda x : len(x.split(\"|\")))\n",
    "test1['no_airline'] = test1['Airline'].apply(lambda x : len(x.split(\"|\")))"
   ]
  },
  {
   "cell_type": "code",
   "execution_count": null,
   "metadata": {},
   "outputs": [],
   "source": []
  },
  {
   "cell_type": "code",
   "execution_count": 51,
   "metadata": {},
   "outputs": [],
   "source": [
    "train1['ttl_nights'] =  train1['Itinerary'].apply(lambda x : sum(map(int,re.findall(r\"[\\d+]+\",x))))\n",
    "test1['ttl_nights'] = test1['Itinerary'].apply(lambda x : sum(map(int,re.findall(r\"[\\d+]+\",x))))"
   ]
  },
  {
   "cell_type": "code",
   "execution_count": null,
   "metadata": {},
   "outputs": [],
   "source": []
  },
  {
   "cell_type": "code",
   "execution_count": null,
   "metadata": {},
   "outputs": [],
   "source": []
  },
  {
   "cell_type": "code",
   "execution_count": 52,
   "metadata": {},
   "outputs": [],
   "source": [
    "destinations = set('|'.join(train['Destination']).split('|'))\n",
    "train1[list(destinations)] = [0]*len(destinations)\n",
    "test1[list(destinations)] = [0]*len(destinations)\n",
    "\n",
    "for i in range(train1.shape[0]):\n",
    "    dests = train1.loc[i,'Itinerary']\n",
    "    for dest in dests.split(' . '):\n",
    "        val,key = int(dest[0]), dest[3:]\n",
    "        if key not in destinations:\n",
    "            print(i)\n",
    "        train1.loc[i,key] = val \n",
    "for i in range(test1.shape[0]):\n",
    "    dests = test1.loc[i,'Itinerary']\n",
    "    for dest in dests.split(' . '):\n",
    "        val,key = int(dest[0]), dest[3:]\n",
    "        if key not in destinations:\n",
    "            print(i)\n",
    "        test1.loc[i,key] = val "
   ]
  },
  {
   "cell_type": "code",
   "execution_count": null,
   "metadata": {},
   "outputs": [],
   "source": []
  },
  {
   "cell_type": "code",
   "execution_count": 55,
   "metadata": {},
   "outputs": [],
   "source": [
    "airlines = set('|'.join(train1['Airline']).split('|'))"
   ]
  },
  {
   "cell_type": "code",
   "execution_count": 61,
   "metadata": {},
   "outputs": [],
   "source": [
    "train1[list(airlines)] = [0]*len(airlines)\n",
    "test1[list(airlines)] = [0]*len(airlines)"
   ]
  },
  {
   "cell_type": "code",
   "execution_count": 66,
   "metadata": {},
   "outputs": [],
   "source": [
    "for i in range(train1.shape[0]):\n",
    "    dests = train1.loc[i,'Airline']\n",
    "    for dest in dests.split('|'):\n",
    "        if dest not in airlines:\n",
    "            print(i)\n",
    "        train1.loc[i,dest] =1 \n",
    "for i in range(test1.shape[0]):\n",
    "    dests = test1.loc[i,'Airline']\n",
    "    for dest in dests.split('|'):\n",
    "        if dest not in airlines:\n",
    "            print(i)\n",
    "        test1.loc[i,dest] +=1 "
   ]
  },
  {
   "cell_type": "code",
   "execution_count": 76,
   "metadata": {},
   "outputs": [
    {
     "data": {
      "text/plain": [
       "0"
      ]
     },
     "execution_count": 76,
     "metadata": {},
     "output_type": "execute_result"
    }
   ],
   "source": [
    "train1['Aeroflot'].sum()"
   ]
  },
  {
   "cell_type": "code",
   "execution_count": 69,
   "metadata": {},
   "outputs": [
    {
     "data": {
      "text/plain": [
       "{'Aeroflot',\n",
       " 'Air Austral',\n",
       " 'Air Baltic',\n",
       " 'Air India',\n",
       " 'Air India Express',\n",
       " 'Air Mauritius',\n",
       " 'Air New Zealand',\n",
       " 'Air Seychelles',\n",
       " 'AirAsia',\n",
       " 'AirAsia Indonesia',\n",
       " 'AirAsia X',\n",
       " 'Airconnect',\n",
       " 'Bangkok Airways',\n",
       " 'British Airways',\n",
       " 'Brussels Airlines',\n",
       " 'Cathay Pacific',\n",
       " 'China Eastern',\n",
       " 'China Southern',\n",
       " 'EgyptAir',\n",
       " 'Emirates',\n",
       " 'Ethiopian Airlines',\n",
       " 'Etihad Airways',\n",
       " 'Finnair',\n",
       " 'Garuda Indonesia',\n",
       " 'Go Air',\n",
       " 'Gulf Air',\n",
       " 'IndiGo',\n",
       " 'Jetstar Airways',\n",
       " 'Jetstar Asia',\n",
       " 'Kenya Airways',\n",
       " 'Kuwait Airways',\n",
       " 'Lufthansa',\n",
       " 'Malaysia Airlines',\n",
       " 'Malindo Air',\n",
       " 'Norwegian',\n",
       " 'Not Available',\n",
       " 'Oman Air',\n",
       " 'Philippine Airlines',\n",
       " 'Qantas Airways',\n",
       " 'Qatar Airways',\n",
       " 'Saudia',\n",
       " 'Scoot',\n",
       " 'Sichuan Airlines',\n",
       " 'Silkair',\n",
       " 'Singapore Airlines',\n",
       " 'South African Airways',\n",
       " 'Spicejet',\n",
       " 'Srilankan Airlines',\n",
       " 'Swiss',\n",
       " 'Thai AirAsia',\n",
       " 'Thai Airways',\n",
       " 'Thai Vietjet Air',\n",
       " 'Turkish Airlines',\n",
       " 'Uzbekistan Airways',\n",
       " 'Virgin Atlantic',\n",
       " 'Vistara'}"
      ]
     },
     "execution_count": 69,
     "metadata": {},
     "output_type": "execute_result"
    }
   ],
   "source": [
    "airlines"
   ]
  },
  {
   "cell_type": "code",
   "execution_count": 71,
   "metadata": {},
   "outputs": [
    {
     "data": {
      "text/plain": [
       "0"
      ]
     },
     "execution_count": 71,
     "metadata": {},
     "output_type": "execute_result"
    }
   ],
   "source": [
    "train1['Scoot'].sum()"
   ]
  },
  {
   "cell_type": "code",
   "execution_count": null,
   "metadata": {},
   "outputs": [],
   "source": []
  },
  {
   "cell_type": "code",
   "execution_count": 29,
   "metadata": {},
   "outputs": [
    {
     "data": {
      "text/plain": [
       "Index(['Package Name', 'Package Type', 'Itinerary', 'Hotel Details',\n",
       "       'Start City', 'Airline', 'Cancellation Rules', 'Per Person Price',\n",
       "       'td_year', 'td_month', 'td_weekday', 'no_places', 'no_airline',\n",
       "       'ttl_nights'],\n",
       "      dtype='object')"
      ]
     },
     "execution_count": 29,
     "metadata": {},
     "output_type": "execute_result"
    }
   ],
   "source": [
    "train1.columns"
   ]
  },
  {
   "cell_type": "code",
   "execution_count": 30,
   "metadata": {},
   "outputs": [],
   "source": [
    "train2 = train1.drop(['Package Name','Itinerary','Hotel Details','Airline','Cancellation Rules'],axis=1)\n",
    "test2 = test1.drop(['Package Name','Itinerary','Hotel Details','Airline','Cancellation Rules'],axis=1)"
   ]
  },
  {
   "cell_type": "code",
   "execution_count": null,
   "metadata": {},
   "outputs": [],
   "source": []
  },
  {
   "cell_type": "markdown",
   "metadata": {},
   "source": [
    "## Modeling 1 "
   ]
  },
  {
   "cell_type": "code",
   "execution_count": 31,
   "metadata": {},
   "outputs": [
    {
     "data": {
      "text/plain": [
       "Index(['Package Type', 'Start City', 'Per Person Price', 'td_year', 'td_month',\n",
       "       'td_weekday', 'no_places', 'no_airline', 'ttl_nights'],\n",
       "      dtype='object')"
      ]
     },
     "execution_count": 31,
     "metadata": {},
     "output_type": "execute_result"
    }
   ],
   "source": [
    "train2.columns"
   ]
  },
  {
   "cell_type": "code",
   "execution_count": 32,
   "metadata": {},
   "outputs": [
    {
     "data": {
      "text/html": [
       "<div>\n",
       "<style scoped>\n",
       "    .dataframe tbody tr th:only-of-type {\n",
       "        vertical-align: middle;\n",
       "    }\n",
       "\n",
       "    .dataframe tbody tr th {\n",
       "        vertical-align: top;\n",
       "    }\n",
       "\n",
       "    .dataframe thead th {\n",
       "        text-align: right;\n",
       "    }\n",
       "</style>\n",
       "<table border=\"1\" class=\"dataframe\">\n",
       "  <thead>\n",
       "    <tr style=\"text-align: right;\">\n",
       "      <th></th>\n",
       "      <th>Package Type</th>\n",
       "      <th>Start City</th>\n",
       "      <th>Per Person Price</th>\n",
       "      <th>td_year</th>\n",
       "      <th>td_month</th>\n",
       "      <th>td_weekday</th>\n",
       "      <th>no_places</th>\n",
       "      <th>no_airline</th>\n",
       "      <th>ttl_nights</th>\n",
       "    </tr>\n",
       "  </thead>\n",
       "  <tbody>\n",
       "    <tr>\n",
       "      <th>0</th>\n",
       "      <td>Standard</td>\n",
       "      <td>Mumbai</td>\n",
       "      <td>11509.0</td>\n",
       "      <td>2021</td>\n",
       "      <td>7</td>\n",
       "      <td>4</td>\n",
       "      <td>4</td>\n",
       "      <td>1</td>\n",
       "      <td>6</td>\n",
       "    </tr>\n",
       "    <tr>\n",
       "      <th>1</th>\n",
       "      <td>Premium</td>\n",
       "      <td>New Delhi</td>\n",
       "      <td>22485.5</td>\n",
       "      <td>2021</td>\n",
       "      <td>8</td>\n",
       "      <td>3</td>\n",
       "      <td>3</td>\n",
       "      <td>2</td>\n",
       "      <td>4</td>\n",
       "    </tr>\n",
       "    <tr>\n",
       "      <th>2</th>\n",
       "      <td>Luxury</td>\n",
       "      <td>New Delhi</td>\n",
       "      <td>12421.5</td>\n",
       "      <td>2021</td>\n",
       "      <td>4</td>\n",
       "      <td>0</td>\n",
       "      <td>2</td>\n",
       "      <td>1</td>\n",
       "      <td>3</td>\n",
       "    </tr>\n",
       "    <tr>\n",
       "      <th>3</th>\n",
       "      <td>Premium</td>\n",
       "      <td>New Delhi</td>\n",
       "      <td>35967.0</td>\n",
       "      <td>2021</td>\n",
       "      <td>8</td>\n",
       "      <td>4</td>\n",
       "      <td>4</td>\n",
       "      <td>1</td>\n",
       "      <td>6</td>\n",
       "    </tr>\n",
       "    <tr>\n",
       "      <th>4</th>\n",
       "      <td>Premium</td>\n",
       "      <td>New Delhi</td>\n",
       "      <td>25584.0</td>\n",
       "      <td>2021</td>\n",
       "      <td>12</td>\n",
       "      <td>6</td>\n",
       "      <td>2</td>\n",
       "      <td>2</td>\n",
       "      <td>7</td>\n",
       "    </tr>\n",
       "  </tbody>\n",
       "</table>\n",
       "</div>"
      ],
      "text/plain": [
       "  Package Type Start City  Per Person Price  td_year  td_month  td_weekday  \\\n",
       "0     Standard     Mumbai           11509.0     2021         7           4   \n",
       "1      Premium  New Delhi           22485.5     2021         8           3   \n",
       "2       Luxury  New Delhi           12421.5     2021         4           0   \n",
       "3      Premium  New Delhi           35967.0     2021         8           4   \n",
       "4      Premium  New Delhi           25584.0     2021        12           6   \n",
       "\n",
       "   no_places  no_airline  ttl_nights  \n",
       "0          4           1           6  \n",
       "1          3           2           4  \n",
       "2          2           1           3  \n",
       "3          4           1           6  \n",
       "4          2           2           7  "
      ]
     },
     "execution_count": 32,
     "metadata": {},
     "output_type": "execute_result"
    }
   ],
   "source": [
    "train2.head()"
   ]
  },
  {
   "cell_type": "code",
   "execution_count": 33,
   "metadata": {},
   "outputs": [],
   "source": [
    "\n",
    "cat_cols = ['Package Type', 'Start City','td_year','td_weekday','td_month']"
   ]
  },
  {
   "cell_type": "code",
   "execution_count": 38,
   "metadata": {},
   "outputs": [],
   "source": [
    "X = train2.drop(['Per Person Price'],axis=1)\n",
    "y = train2['Per Person Price']\n",
    "Xt = test2[X.columns]"
   ]
  },
  {
   "cell_type": "code",
   "execution_count": 35,
   "metadata": {},
   "outputs": [
    {
     "name": "stdout",
     "output_type": "stream",
     "text": [
      "Category Indexes  [0, 1, 2, 4, 3]\n"
     ]
    }
   ],
   "source": [
    "cat_idx = []\n",
    "for col in cat_cols:\n",
    "    cat_idx.append(X.columns.get_loc(col))\n",
    "\n",
    "print(\"Category Indexes \",cat_idx)"
   ]
  },
  {
   "cell_type": "code",
   "execution_count": 36,
   "metadata": {},
   "outputs": [
    {
     "name": "stdout",
     "output_type": "stream",
     "text": [
      "Learning rate set to 0.062433\n",
      "0:\tlearn: 11336.8441525\ttotal: 202ms\tremaining: 3m 21s\n",
      "300:\tlearn: 7192.8007920\ttotal: 12.8s\tremaining: 29.8s\n",
      "600:\tlearn: 7000.2679821\ttotal: 25.3s\tremaining: 16.8s\n",
      "900:\tlearn: 6854.2468806\ttotal: 37.9s\tremaining: 4.16s\n",
      "999:\tlearn: 6818.6436449\ttotal: 41.9s\tremaining: 0us\n",
      "Learning rate set to 0.062433\n",
      "0:\tlearn: 11476.9686488\ttotal: 41ms\tremaining: 41s\n",
      "300:\tlearn: 7497.9175769\ttotal: 12.3s\tremaining: 28.6s\n",
      "600:\tlearn: 7311.8917599\ttotal: 25.3s\tremaining: 16.8s\n",
      "900:\tlearn: 7175.5721115\ttotal: 38.3s\tremaining: 4.21s\n",
      "999:\tlearn: 7130.8929966\ttotal: 42.9s\tremaining: 0us\n",
      "Learning rate set to 0.062433\n",
      "0:\tlearn: 11128.0345375\ttotal: 43.2ms\tremaining: 43.2s\n",
      "300:\tlearn: 7264.9035078\ttotal: 13s\tremaining: 30.1s\n",
      "600:\tlearn: 7075.0871794\ttotal: 26.7s\tremaining: 17.7s\n",
      "900:\tlearn: 6951.2363422\ttotal: 47.8s\tremaining: 5.25s\n",
      "999:\tlearn: 6915.8895656\ttotal: 52.3s\tremaining: 0us\n"
     ]
    }
   ],
   "source": [
    "scoring = \"neg_mean_squared_log_error\"\n",
    "\n",
    "mdl = CatBoostRegressor(cat_features=cat_idx,verbose=300)\n",
    "cv_score = cross_val_score(mdl,X,y,scoring = scoring,cv=3)"
   ]
  },
  {
   "cell_type": "code",
   "execution_count": 37,
   "metadata": {},
   "outputs": [
    {
     "name": "stdout",
     "output_type": "stream",
     "text": [
      " Catboost model\n",
      "cv_score  [-0.11571721 -0.11315707 -0.12021861]\n",
      "cv meann -0.11636429844729296\n",
      "cv std 0.0029189444518810796\n"
     ]
    }
   ],
   "source": [
    "print(\" Catboost model\")\n",
    "print(\"cv_score \" ,cv_score)\n",
    "print(\"cv meann\",cv_score.mean())\n",
    "print(\"cv std\",cv_score.std())"
   ]
  },
  {
   "cell_type": "code",
   "execution_count": 41,
   "metadata": {},
   "outputs": [
    {
     "name": "stdout",
     "output_type": "stream",
     "text": [
      "Learning rate set to 0.067105\n",
      "0:\tlearn: 11300.5265390\ttotal: 50.7ms\tremaining: 50.6s\n",
      "300:\tlearn: 7376.2100009\ttotal: 13.9s\tremaining: 32.3s\n",
      "600:\tlearn: 7222.9643387\ttotal: 26.9s\tremaining: 17.9s\n",
      "900:\tlearn: 7130.3168595\ttotal: 41.8s\tremaining: 4.6s\n",
      "999:\tlearn: 7108.3382145\ttotal: 48s\tremaining: 0us\n"
     ]
    },
    {
     "data": {
      "text/plain": [
       "<catboost.core.CatBoostRegressor at 0x22d72be18c8>"
      ]
     },
     "execution_count": 41,
     "metadata": {},
     "output_type": "execute_result"
    }
   ],
   "source": [
    "mdl.fit(X,y)\n",
    "\n"
   ]
  },
  {
   "cell_type": "code",
   "execution_count": 42,
   "metadata": {},
   "outputs": [
    {
     "data": {
      "text/plain": [
       "{'Package Type': 24.349856419052678,\n",
       " 'Start City': 1.03787792507083,\n",
       " 'td_year': 0.20808718997150058,\n",
       " 'td_month': 2.241642897455258,\n",
       " 'td_weekday': 1.8156819629341627,\n",
       " 'no_places': 9.706238907667492,\n",
       " 'no_airline': 30.037888848395603,\n",
       " 'ttl_nights': 30.602725849452433}"
      ]
     },
     "execution_count": 42,
     "metadata": {},
     "output_type": "execute_result"
    }
   ],
   "source": [
    "dict(zip(mdl.feature_names_,mdl.feature_importances_))"
   ]
  },
  {
   "cell_type": "code",
   "execution_count": null,
   "metadata": {},
   "outputs": [],
   "source": []
  },
  {
   "cell_type": "code",
   "execution_count": null,
   "metadata": {},
   "outputs": [],
   "source": []
  },
  {
   "cell_type": "code",
   "execution_count": null,
   "metadata": {},
   "outputs": [],
   "source": []
  },
  {
   "cell_type": "code",
   "execution_count": 43,
   "metadata": {},
   "outputs": [],
   "source": [
    "res = pd.DataFrame()\n",
    "res[target]=mdl.predict(Xt)\n",
    "res.to_csv(\"cat_pipe.csv\",index=False)"
   ]
  },
  {
   "cell_type": "code",
   "execution_count": null,
   "metadata": {},
   "outputs": [],
   "source": []
  }
 ],
 "metadata": {
  "kernelspec": {
   "display_name": "Python 3",
   "language": "python",
   "name": "python3"
  },
  "language_info": {
   "codemirror_mode": {
    "name": "ipython",
    "version": 3
   },
   "file_extension": ".py",
   "mimetype": "text/x-python",
   "name": "python",
   "nbconvert_exporter": "python",
   "pygments_lexer": "ipython3",
   "version": "3.7.6"
  }
 },
 "nbformat": 4,
 "nbformat_minor": 4
}
